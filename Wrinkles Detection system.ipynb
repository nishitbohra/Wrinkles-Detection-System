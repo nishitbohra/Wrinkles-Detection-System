{
 "cells": [
  {
   "cell_type": "code",
   "execution_count": 14,
   "id": "9b1e8c76",
   "metadata": {},
   "outputs": [
    {
     "name": "stdout",
     "output_type": "stream",
     "text": [
      "Wrinkles detected\n"
     ]
    }
   ],
   "source": [
    "# Imported Library\n",
    "\n",
    "import cv2\n",
    "\n",
    "# Load the input image\n",
    "img = cv2.imread(\"wrink.jpg\")\n",
    "img = cv2.resize(img,(421,612))\n",
    "\n",
    "# Convert the image to grayscale\n",
    "gray = cv2.cvtColor(img, cv2.COLOR_BGR2GRAY)\n",
    "\n",
    "# Apply a Gaussian blur to the image to reduce noise\n",
    "blur = cv2.GaussianBlur(gray, (3, 3), 0)\n",
    "\n",
    "# Apply Canny edge detection to the image\n",
    "edges = cv2.Canny(blur, 10, 100)\n",
    "\n",
    "# Apply thresholding to the image\n",
    "ret, thresh = cv2.threshold(edges, 50, 255, cv2.THRESH_BINARY)\n",
    "\n",
    "# Find contours in the thresholded image\n",
    "contours, hierarchy = cv2.findContours(thresh, cv2.RETR_TREE, cv2.CHAIN_APPROX_SIMPLE)\n",
    "\n",
    "# Keep count of the number of contours that meet the wrinkle criteria\n",
    "wrinkle_count = 0\n",
    "\n",
    "# Loop through each contour and draw a rectangle around it if it meets certain criteria\n",
    "for contour in contours:\n",
    "    x, y, w, h = cv2.boundingRect(contour)\n",
    "\n",
    "    # Check if the contour is big enough and has a certain aspect ratio to be considered a wrinkle\n",
    "    if w > 10 and h > 5 and w < 50 and h < 20 and w/h > 2:\n",
    "        cv2.rectangle(img, (x, y), (x + w, y + h), (0, 0, 255), 2)\n",
    "        wrinkle_count += 1\n",
    "\n",
    "# Print whether wrinkles were detected or not based on the number of contours that meet the wrinkle criteria\n",
    "if wrinkle_count > 0:\n",
    "    print(\"Wrinkles detected\")\n",
    "else:\n",
    "    print(\"No wrinkles detected\")\n",
    "\n",
    "# Display the output image\n",
    "cv2.imshow(\"Output\", img)\n",
    "cv2.waitKey(0)\n",
    "cv2.destroyAllWindows()\n"
   ]
  }
 ],
 "metadata": {
  "kernelspec": {
   "display_name": "Python 3 (ipykernel)",
   "language": "python",
   "name": "python3"
  },
  "language_info": {
   "codemirror_mode": {
    "name": "ipython",
    "version": 3
   },
   "file_extension": ".py",
   "mimetype": "text/x-python",
   "name": "python",
   "nbconvert_exporter": "python",
   "pygments_lexer": "ipython3",
   "version": "3.9.13"
  }
 },
 "nbformat": 4,
 "nbformat_minor": 5
}
